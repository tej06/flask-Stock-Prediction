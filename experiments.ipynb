{
 "cells": [
  {
   "cell_type": "code",
   "execution_count": 1,
   "metadata": {},
   "outputs": [
    {
     "name": "stderr",
     "output_type": "stream",
     "text": [
      "/home/tej/anaconda3/envs/tf/lib/python3.6/site-packages/sklearn/externals/joblib/__init__.py:15: DeprecationWarning: sklearn.externals.joblib is deprecated in 0.21 and will be removed in 0.23. Please import this functionality directly from joblib, which can be installed with: pip install joblib. If this warning is raised when loading pickled models, you may need to re-serialize those models with scikit-learn 0.21+.\n",
      "  warnings.warn(msg, category=DeprecationWarning)\n"
     ]
    }
   ],
   "source": [
    "from __future__ import division, print_function\n",
    "# coding=utf-8\n",
    "import sys\n",
    "import os, glob\n",
    "\n",
    "from flask import Flask, redirect, url_for, request, render_template\n",
    "from werkzeug.utils import secure_filename\n",
    "from gevent.pywsgi import WSGIServer\n",
    "\n",
    "import numpy as np\n",
    "%matplotlib inline\n",
    "import matplotlib.pyplot as plt\n",
    "from matplotlib import style\n",
    "#Adjusting the size of matplotlib\n",
    "import matplotlib as mpl\n",
    "import pandas as pd\n",
    "import datetime\n",
    "import pandas_datareader.data as web\n",
    "from pandas import Series, DataFrame\n",
    "import io\n",
    "import base64\n",
    "import math\n",
    "from sklearn import preprocessing\n",
    "from sklearn.linear_model import LinearRegression\n",
    "from sklearn.neighbors import KNeighborsRegressor\n",
    "from sklearn.linear_model import Ridge\n",
    "from sklearn.preprocessing import PolynomialFeatures\n",
    "from sklearn.neural_network import MLPRegressor\n",
    "from sklearn.pipeline import make_pipeline\n",
    "from sklearn.metrics import accuracy_score  # Can't be used here as it is used only in case of classifications\n",
    "from sklearn.model_selection import train_test_split\n",
    "from sklearn.externals import joblib"
   ]
  },
  {
   "cell_type": "code",
   "execution_count": 2,
   "metadata": {},
   "outputs": [],
   "source": [
    "mpl.rc('figure', figsize=(8, 7))\n",
    "# Adjusting the style of matplotlib\n",
    "style.use('ggplot')\n",
    "\n",
    "def get_data(stock, start, end):\n",
    "    df = web.DataReader(stock, \"yahoo\", start, end)\n",
    "    #df.set_index(\"Date\", inplace=True)\n",
    "    return df\n",
    "\n",
    "def feature_engineer(dataframe):\n",
    "    dfreg = dataframe.loc[:, [\"Adj Close\", \"Volume\"]]\n",
    "    dfreg[\"HL_PCT\"] = (dataframe[\"High\"] - dataframe[\"Low\"]) / dataframe[\"Close\"] * 100.0\n",
    "    dfreg[\"PCT_change\"] = (dataframe[\"Close\"] - dataframe[\"Open\"]) / dataframe[\"Open\"] * 100.0\n",
    "    return dfreg\n",
    "\n",
    "def preprocess_data(dataframe):\n",
    "    dataframe.dropna(inplace=True)\n",
    "\n",
    "    # cast out 1% of data for future prediction\n",
    "    forecast_out = int(math.ceil(0.01*len(dataframe)))\n",
    "    forecast_col = \"Adj Close\"\n",
    "    dataframe[\"label\"] = dataframe[forecast_col].shift(-forecast_out, axis=0) #axis=0 implies shift all columns\n",
    "\n",
    "    X = np.array(dataframe.drop([\"label\"], axis=1))\n",
    "    X = preprocessing.scale(X)\n",
    "\n",
    "    X_lately = X[-forecast_out:]\n",
    "    X_test = X[-(2*forecast_out):-forecast_out]\n",
    "    X = X[:-forecast_out]\n",
    "\n",
    "    y = np.array(dataframe['label'])\n",
    "    y = y[:-forecast_out]\n",
    "    y_test = np.array(dataframe[forecast_col])[-forecast_out:]\n",
    "\n",
    "    return dataframe, X, y, X_test, y_test, X_lately\n",
    "\n",
    "def train_model(regressor, X, y, X_test, y_test, hidden_size=(100,)):\n",
    "    reg_model = None\n",
    "    if regressor == \"LinearRegression\":\n",
    "        reg_model = LinearRegression(n_jobs=-1)\n",
    "    elif regressor == \"PolynomialRegression\":\n",
    "        reg_model = make_pipeline(PolynomialFeatures(3), Ridge())\n",
    "    elif regressor == \"KNNRegression\":\n",
    "        reg_model = KNeighborsRegressor(n_neighbors=2)\n",
    "    else: # regressor == \"MLPRegression\":\n",
    "        reg_model = MLPRegressor()\n",
    "    reg_model.fit(X, y)\n",
    "    confidence_score = reg_model.score(X_test, y_test)\n",
    "    return reg_model, confidence_score\n",
    "\n",
    "def save_model(model, name):\n",
    "    joblib.dump(model, \"./\"+name)\n",
    "\n",
    "def load_model(name):\n",
    "    model = joblib.load(\"./\"+name)\n",
    "    return model\n",
    "\n",
    "def predict(reg_model, X_lately):\n",
    "    forecast_set = reg_model.predict(X_lately)\n",
    "    return forecast_set\n",
    "\n",
    "def get_output_dataframe(dataframe, forecast_set):\n",
    "    dataframe[\"Forecast\"] = np.nan\n",
    "    last_date = dataframe.iloc[-1].name\n",
    "    #last_date = datetime.datetime.strptime(last_date, \"%Y-%m-%d\")\n",
    "    last_unix = last_date\n",
    "    next_unix = last_unix + datetime.timedelta(days=1)\n",
    "    for i in forecast_set:\n",
    "        next_date = next_unix\n",
    "        next_unix += datetime.timedelta(days=1)\n",
    "        dataframe.loc[next_date] = [np.nan for _ in range(len(dataframe.columns)-1)]+[i]\n",
    "    return dataframe, dataframe[\"Forecast\"].tail(len(forecast_set))\n",
    "\n",
    "def get_plot_prediction_url(dataframe):\n",
    "    img = io.BytesIO()\n",
    "    dataframe['Adj Close'].tail(500).plot()\n",
    "    dataframe['Forecast'].tail(500).plot()\n",
    "    plt.legend(loc=4)\n",
    "    plt.xlabel('Date')\n",
    "    plt.ylabel('Price')\n",
    "    plt.show()\n",
    "    plt.savefig(img, format='png')\n",
    "    img.seek(0)\n",
    "    graph_url = base64.b64encode(img.getvalue()).decode()\n",
    "    return 'data:image/png;base64,{}'.format(graph_url)\n"
   ]
  },
  {
   "cell_type": "code",
   "execution_count": 3,
   "metadata": {},
   "outputs": [
    {
     "data": {
      "text/html": [
       "<div>\n",
       "<style scoped>\n",
       "    .dataframe tbody tr th:only-of-type {\n",
       "        vertical-align: middle;\n",
       "    }\n",
       "\n",
       "    .dataframe tbody tr th {\n",
       "        vertical-align: top;\n",
       "    }\n",
       "\n",
       "    .dataframe thead th {\n",
       "        text-align: right;\n",
       "    }\n",
       "</style>\n",
       "<table border=\"1\" class=\"dataframe\">\n",
       "  <thead>\n",
       "    <tr style=\"text-align: right;\">\n",
       "      <th></th>\n",
       "      <th>High</th>\n",
       "      <th>Low</th>\n",
       "      <th>Open</th>\n",
       "      <th>Close</th>\n",
       "      <th>Volume</th>\n",
       "      <th>Adj Close</th>\n",
       "    </tr>\n",
       "    <tr>\n",
       "      <th>Date</th>\n",
       "      <th></th>\n",
       "      <th></th>\n",
       "      <th></th>\n",
       "      <th></th>\n",
       "      <th></th>\n",
       "      <th></th>\n",
       "    </tr>\n",
       "  </thead>\n",
       "  <tbody>\n",
       "    <tr>\n",
       "      <td>2019-08-26</td>\n",
       "      <td>1169.469971</td>\n",
       "      <td>1152.959961</td>\n",
       "      <td>1157.260010</td>\n",
       "      <td>1168.890015</td>\n",
       "      <td>1226100.0</td>\n",
       "      <td>1168.890015</td>\n",
       "    </tr>\n",
       "    <tr>\n",
       "      <td>2019-08-27</td>\n",
       "      <td>1182.400024</td>\n",
       "      <td>1161.449951</td>\n",
       "      <td>1180.530029</td>\n",
       "      <td>1167.839966</td>\n",
       "      <td>1077200.0</td>\n",
       "      <td>1167.839966</td>\n",
       "    </tr>\n",
       "    <tr>\n",
       "      <td>2019-08-28</td>\n",
       "      <td>1176.420044</td>\n",
       "      <td>1157.300049</td>\n",
       "      <td>1161.709961</td>\n",
       "      <td>1171.020020</td>\n",
       "      <td>802000.0</td>\n",
       "      <td>1171.020020</td>\n",
       "    </tr>\n",
       "    <tr>\n",
       "      <td>2019-08-29</td>\n",
       "      <td>1196.060059</td>\n",
       "      <td>1181.119995</td>\n",
       "      <td>1181.119995</td>\n",
       "      <td>1192.849976</td>\n",
       "      <td>1088400.0</td>\n",
       "      <td>1192.849976</td>\n",
       "    </tr>\n",
       "    <tr>\n",
       "      <td>2019-08-30</td>\n",
       "      <td>1198.500000</td>\n",
       "      <td>1183.802979</td>\n",
       "      <td>1198.500000</td>\n",
       "      <td>1188.099976</td>\n",
       "      <td>1129800.0</td>\n",
       "      <td>1188.099976</td>\n",
       "    </tr>\n",
       "  </tbody>\n",
       "</table>\n",
       "</div>"
      ],
      "text/plain": [
       "                   High          Low         Open        Close     Volume  \\\n",
       "Date                                                                        \n",
       "2019-08-26  1169.469971  1152.959961  1157.260010  1168.890015  1226100.0   \n",
       "2019-08-27  1182.400024  1161.449951  1180.530029  1167.839966  1077200.0   \n",
       "2019-08-28  1176.420044  1157.300049  1161.709961  1171.020020   802000.0   \n",
       "2019-08-29  1196.060059  1181.119995  1181.119995  1192.849976  1088400.0   \n",
       "2019-08-30  1198.500000  1183.802979  1198.500000  1188.099976  1129800.0   \n",
       "\n",
       "              Adj Close  \n",
       "Date                     \n",
       "2019-08-26  1168.890015  \n",
       "2019-08-27  1167.839966  \n",
       "2019-08-28  1171.020020  \n",
       "2019-08-29  1192.849976  \n",
       "2019-08-30  1188.099976  "
      ]
     },
     "execution_count": 3,
     "metadata": {},
     "output_type": "execute_result"
    }
   ],
   "source": [
    "#temp start and end time\n",
    "start = datetime.datetime(2010, 1, 1)\n",
    "end = datetime.datetime(2019, 8, 30)\n",
    "stock = \"GOOG\"\n",
    "dfmain = get_data(stock, start, end)\n",
    "dfmain.tail()"
   ]
  },
  {
   "cell_type": "code",
   "execution_count": 4,
   "metadata": {},
   "outputs": [
    {
     "data": {
      "text/html": [
       "<div>\n",
       "<style scoped>\n",
       "    .dataframe tbody tr th:only-of-type {\n",
       "        vertical-align: middle;\n",
       "    }\n",
       "\n",
       "    .dataframe tbody tr th {\n",
       "        vertical-align: top;\n",
       "    }\n",
       "\n",
       "    .dataframe thead th {\n",
       "        text-align: right;\n",
       "    }\n",
       "</style>\n",
       "<table border=\"1\" class=\"dataframe\">\n",
       "  <thead>\n",
       "    <tr style=\"text-align: right;\">\n",
       "      <th></th>\n",
       "      <th>Adj Close</th>\n",
       "      <th>Volume</th>\n",
       "      <th>HL_PCT</th>\n",
       "      <th>PCT_change</th>\n",
       "    </tr>\n",
       "    <tr>\n",
       "      <th>Date</th>\n",
       "      <th></th>\n",
       "      <th></th>\n",
       "      <th></th>\n",
       "      <th></th>\n",
       "    </tr>\n",
       "  </thead>\n",
       "  <tbody>\n",
       "    <tr>\n",
       "      <td>2019-08-26</td>\n",
       "      <td>1168.890015</td>\n",
       "      <td>1226100.0</td>\n",
       "      <td>1.412452</td>\n",
       "      <td>1.004960</td>\n",
       "    </tr>\n",
       "    <tr>\n",
       "      <td>2019-08-27</td>\n",
       "      <td>1167.839966</td>\n",
       "      <td>1077200.0</td>\n",
       "      <td>1.793916</td>\n",
       "      <td>-1.074946</td>\n",
       "    </tr>\n",
       "    <tr>\n",
       "      <td>2019-08-28</td>\n",
       "      <td>1171.020020</td>\n",
       "      <td>802000.0</td>\n",
       "      <td>1.632764</td>\n",
       "      <td>0.801410</td>\n",
       "    </tr>\n",
       "    <tr>\n",
       "      <td>2019-08-29</td>\n",
       "      <td>1192.849976</td>\n",
       "      <td>1088400.0</td>\n",
       "      <td>1.252468</td>\n",
       "      <td>0.993124</td>\n",
       "    </tr>\n",
       "    <tr>\n",
       "      <td>2019-08-30</td>\n",
       "      <td>1188.099976</td>\n",
       "      <td>1129800.0</td>\n",
       "      <td>1.237019</td>\n",
       "      <td>-0.867753</td>\n",
       "    </tr>\n",
       "  </tbody>\n",
       "</table>\n",
       "</div>"
      ],
      "text/plain": [
       "              Adj Close     Volume    HL_PCT  PCT_change\n",
       "Date                                                    \n",
       "2019-08-26  1168.890015  1226100.0  1.412452    1.004960\n",
       "2019-08-27  1167.839966  1077200.0  1.793916   -1.074946\n",
       "2019-08-28  1171.020020   802000.0  1.632764    0.801410\n",
       "2019-08-29  1192.849976  1088400.0  1.252468    0.993124\n",
       "2019-08-30  1188.099976  1129800.0  1.237019   -0.867753"
      ]
     },
     "execution_count": 4,
     "metadata": {},
     "output_type": "execute_result"
    }
   ],
   "source": [
    "dffeateng = feature_engineer(dfmain)\n",
    "dffeateng.tail()"
   ]
  },
  {
   "cell_type": "code",
   "execution_count": 5,
   "metadata": {},
   "outputs": [
    {
     "name": "stdout",
     "output_type": "stream",
     "text": [
      "(2408, 4) (2408,) (25, 4) (25,) (25, 4)\n"
     ]
    }
   ],
   "source": [
    "dataframe, X, y, X_test, y_test, X_lately = preprocess_data(dffeateng)\n",
    "print(X.shape, y.shape, X_test.shape, y_test.shape, X_lately.shape)"
   ]
  },
  {
   "cell_type": "code",
   "execution_count": 6,
   "metadata": {},
   "outputs": [
    {
     "name": "stdout",
     "output_type": "stream",
     "text": [
      "-8.330899363535933\n"
     ]
    }
   ],
   "source": [
    "model, score = train_model(\"LinearRegression\", X, y, X_test, y_test)\n",
    "print(score)"
   ]
  },
  {
   "cell_type": "code",
   "execution_count": 7,
   "metadata": {},
   "outputs": [],
   "source": [
    "forecast_set = predict(model, X_lately)\n",
    "dffinal, dfpred = get_output_dataframe(dataframe, forecast_set)"
   ]
  },
  {
   "cell_type": "code",
   "execution_count": 8,
   "metadata": {},
   "outputs": [
    {
     "data": {
      "image/png": "[encoded data removed]",
      "text/plain": [
       "<Figure size 576x504 with 1 Axes>"
      ]
     },
     "metadata": {},
     "output_type": "display_data"
    },
    {
     "data": {
      "text/plain": [
       "<Figure size 576x504 with 0 Axes>"
      ]
     },
     "metadata": {},
     "output_type": "display_data"
    }
   ],
   "source": [
    "url = get_plot_prediction_url(dffinal)"
   ]
  },
  {
   "cell_type": "code",
   "execution_count": 14,
   "metadata": {},
   "outputs": [
    {
     "data": {
      "text/plain": [
       "Date\n",
       "2019-08-31    1243.271617\n",
       "2019-09-01    1229.401172\n",
       "2019-09-02    1224.371440\n",
       "2019-09-03    1217.391198\n",
       "2019-09-04    1200.236411\n",
       "2019-09-05    1161.894706\n",
       "2019-09-06    1176.140685\n",
       "2019-09-07    1182.448002\n",
       "2019-09-08    1213.183452\n",
       "2019-09-09    1196.752610\n",
       "2019-09-10    1182.756226\n",
       "2019-09-11    1206.375943\n",
       "2019-09-12    1172.560425\n",
       "2019-09-13    1173.396332\n",
       "2019-09-14    1182.923517\n",
       "2019-09-15    1204.583517\n",
       "2019-09-16    1190.457928\n",
       "2019-09-17    1198.109073\n",
       "2019-09-18    1198.029459\n",
       "2019-09-19    1167.171799\n",
       "2019-09-20    1175.218592\n",
       "2019-09-21    1177.257830\n",
       "2019-09-22    1179.314399\n",
       "2019-09-23    1198.761010\n",
       "2019-09-24    1195.248943\n",
       "Name: Forecast, dtype: float64"
      ]
     },
     "execution_count": 14,
     "metadata": {},
     "output_type": "execute_result"
    }
   ],
   "source": [
    "dfpred"
   ]
  },
  {
   "cell_type": "code",
   "execution_count": 9,
   "metadata": {},
   "outputs": [
    {
     "data": {
      "text/plain": [
       "[2019, 1, 2]"
      ]
     },
     "execution_count": 9,
     "metadata": {},
     "output_type": "execute_result"
    }
   ],
   "source": [
    "temp = \"2019-01-02\"\n",
    "temp = list(map(int, temp.split(\"-\")))\n",
    "temp"
   ]
  },
  {
   "cell_type": "code",
   "execution_count": null,
   "metadata": {},
   "outputs": [],
   "source": []
  }
 ],
 "metadata": {
  "kernelspec": {
   "display_name": "tf",
   "language": "python",
   "name": "tf"
  },
  "language_info": {
   "codemirror_mode": {
    "name": "ipython",
    "version": 3
   },
   "file_extension": ".py",
   "mimetype": "text/x-python",
   "name": "python",
   "nbconvert_exporter": "python",
   "pygments_lexer": "ipython3",
   "version": "3.6.8"
  }
 },
 "nbformat": 4,
 "nbformat_minor": 2
}
